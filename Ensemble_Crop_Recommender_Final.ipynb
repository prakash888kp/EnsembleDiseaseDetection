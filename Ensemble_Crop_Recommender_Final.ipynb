{
  "cells": [
    {
      "cell_type": "markdown",
      "metadata": {
        "id": "view-in-github",
        "colab_type": "text"
      },
      "source": [
        "<a href=\"https://colab.research.google.com/github/prakash888kp/EnsembleDiseaseDetection/blob/main/Ensemble_Crop_Recommender_Final.ipynb\" target=\"_parent\"><img src=\"https://colab.research.google.com/assets/colab-badge.svg\" alt=\"Open In Colab\"/></a>"
      ]
    },
    {
      "cell_type": "markdown",
      "metadata": {
        "id": "nb-dbaD9JLkX"
      },
      "source": [
        "# Crop recommendation using Ensemble Learning"
      ],
      "id": "nb-dbaD9JLkX"
    },
    {
      "cell_type": "code",
      "execution_count": null,
      "metadata": {
        "id": "WI61W7iGJLkb"
      },
      "outputs": [],
      "source": [
        "import pandas as pd\n",
        "import numpy as np\n",
        "import seaborn as sns\n",
        "from sklearn import preprocessing as pre\n",
        "from sklearn.model_selection import train_test_split, GridSearchCV, RepeatedStratifiedKFold\n",
        "from sklearn.neighbors import KNeighborsClassifier\n",
        "from sklearn.tree import DecisionTreeClassifier\n",
        "from sklearn.ensemble import RandomForestClassifier, VotingClassifier\n",
        "from sklearn.naive_bayes import GaussianNB\n",
        "from sklearn import metrics\n",
        "from pickle import dump"
      ],
      "id": "WI61W7iGJLkb"
    },
    {
      "cell_type": "markdown",
      "metadata": {
        "id": "BBlf45U1JLkc"
      },
      "source": [
        "**Importing the data**"
      ],
      "id": "BBlf45U1JLkc"
    },
    {
      "cell_type": "code",
      "execution_count": null,
      "metadata": {
        "id": "ivUkblHcJLkc",
        "outputId": "ad0a843d-1ff4-44f7-92c5-e650e50f82d0"
      },
      "outputs": [
        {
          "data": {
            "text/html": [
              "<div>\n",
              "<style scoped>\n",
              "    .dataframe tbody tr th:only-of-type {\n",
              "        vertical-align: middle;\n",
              "    }\n",
              "\n",
              "    .dataframe tbody tr th {\n",
              "        vertical-align: top;\n",
              "    }\n",
              "\n",
              "    .dataframe thead th {\n",
              "        text-align: right;\n",
              "    }\n",
              "</style>\n",
              "<table border=\"1\" class=\"dataframe\">\n",
              "  <thead>\n",
              "    <tr style=\"text-align: right;\">\n",
              "      <th></th>\n",
              "      <th>N</th>\n",
              "      <th>P</th>\n",
              "      <th>K</th>\n",
              "      <th>temperature</th>\n",
              "      <th>humidity</th>\n",
              "      <th>ph</th>\n",
              "      <th>rainfall</th>\n",
              "      <th>label</th>\n",
              "    </tr>\n",
              "  </thead>\n",
              "  <tbody>\n",
              "    <tr>\n",
              "      <th>0</th>\n",
              "      <td>90</td>\n",
              "      <td>42</td>\n",
              "      <td>43</td>\n",
              "      <td>20.879744</td>\n",
              "      <td>82.002744</td>\n",
              "      <td>6.502985</td>\n",
              "      <td>202.935536</td>\n",
              "      <td>rice</td>\n",
              "    </tr>\n",
              "    <tr>\n",
              "      <th>1</th>\n",
              "      <td>85</td>\n",
              "      <td>58</td>\n",
              "      <td>41</td>\n",
              "      <td>21.770462</td>\n",
              "      <td>80.319644</td>\n",
              "      <td>7.038096</td>\n",
              "      <td>226.655537</td>\n",
              "      <td>rice</td>\n",
              "    </tr>\n",
              "    <tr>\n",
              "      <th>2</th>\n",
              "      <td>60</td>\n",
              "      <td>55</td>\n",
              "      <td>44</td>\n",
              "      <td>23.004459</td>\n",
              "      <td>82.320763</td>\n",
              "      <td>7.840207</td>\n",
              "      <td>263.964248</td>\n",
              "      <td>rice</td>\n",
              "    </tr>\n",
              "    <tr>\n",
              "      <th>3</th>\n",
              "      <td>74</td>\n",
              "      <td>35</td>\n",
              "      <td>40</td>\n",
              "      <td>26.491096</td>\n",
              "      <td>80.158363</td>\n",
              "      <td>6.980401</td>\n",
              "      <td>242.864034</td>\n",
              "      <td>rice</td>\n",
              "    </tr>\n",
              "    <tr>\n",
              "      <th>4</th>\n",
              "      <td>78</td>\n",
              "      <td>42</td>\n",
              "      <td>42</td>\n",
              "      <td>20.130175</td>\n",
              "      <td>81.604873</td>\n",
              "      <td>7.628473</td>\n",
              "      <td>262.717340</td>\n",
              "      <td>rice</td>\n",
              "    </tr>\n",
              "  </tbody>\n",
              "</table>\n",
              "</div>"
            ],
            "text/plain": [
              "    N   P   K  temperature   humidity        ph    rainfall label\n",
              "0  90  42  43    20.879744  82.002744  6.502985  202.935536  rice\n",
              "1  85  58  41    21.770462  80.319644  7.038096  226.655537  rice\n",
              "2  60  55  44    23.004459  82.320763  7.840207  263.964248  rice\n",
              "3  74  35  40    26.491096  80.158363  6.980401  242.864034  rice\n",
              "4  78  42  42    20.130175  81.604873  7.628473  262.717340  rice"
            ]
          },
          "execution_count": 156,
          "metadata": {},
          "output_type": "execute_result"
        }
      ],
      "source": [
        "data = pd.read_csv(r'/contents/crop.csv')\n",
        "data.reset_index(drop = True, inplace = True)\n",
        "data.head()"
      ],
      "id": "ivUkblHcJLkc"
    },
    {
      "cell_type": "markdown",
      "metadata": {
        "id": "I5aQikqSJLkd"
      },
      "source": [
        "**Shape of the data**"
      ],
      "id": "I5aQikqSJLkd"
    },
    {
      "cell_type": "code",
      "execution_count": null,
      "metadata": {
        "id": "h8aY0SaCJLke",
        "outputId": "5e52258a-7408-412a-b103-6573d08a0535"
      },
      "outputs": [
        {
          "data": {
            "text/plain": [
              "(2200, 8)"
            ]
          },
          "execution_count": 157,
          "metadata": {},
          "output_type": "execute_result"
        }
      ],
      "source": [
        "data.shape"
      ],
      "id": "h8aY0SaCJLke"
    },
    {
      "cell_type": "markdown",
      "metadata": {
        "id": "S0_WtUjfJLke"
      },
      "source": [
        "**Checking missing values**"
      ],
      "id": "S0_WtUjfJLke"
    },
    {
      "cell_type": "code",
      "execution_count": null,
      "metadata": {
        "id": "sf1oTkA-JLkf",
        "outputId": "0075007b-c727-4524-8172-c8be036766f6"
      },
      "outputs": [
        {
          "data": {
            "text/plain": [
              "N              0\n",
              "P              0\n",
              "K              0\n",
              "temperature    0\n",
              "humidity       0\n",
              "ph             0\n",
              "rainfall       0\n",
              "label          0\n",
              "dtype: int64"
            ]
          },
          "execution_count": 158,
          "metadata": {},
          "output_type": "execute_result"
        }
      ],
      "source": [
        "data.isnull().sum()"
      ],
      "id": "sf1oTkA-JLkf"
    },
    {
      "cell_type": "markdown",
      "metadata": {
        "id": "_Dfg5hFvJLkf"
      },
      "source": [
        "**Data types**"
      ],
      "id": "_Dfg5hFvJLkf"
    },
    {
      "cell_type": "code",
      "execution_count": null,
      "metadata": {
        "id": "TmKm0UMuJLkg",
        "outputId": "34cada45-7ad2-4672-a7a6-15db471e4237"
      },
      "outputs": [
        {
          "data": {
            "text/plain": [
              "N                int64\n",
              "P                int64\n",
              "K                int64\n",
              "temperature    float64\n",
              "humidity       float64\n",
              "ph             float64\n",
              "rainfall       float64\n",
              "label           object\n",
              "dtype: object"
            ]
          },
          "execution_count": 159,
          "metadata": {},
          "output_type": "execute_result"
        }
      ],
      "source": [
        "data.dtypes"
      ],
      "id": "TmKm0UMuJLkg"
    },
    {
      "cell_type": "markdown",
      "metadata": {
        "id": "nhm-HuqZJLkg"
      },
      "source": [
        "**Checking the unique targets in the dataframe**"
      ],
      "id": "nhm-HuqZJLkg"
    },
    {
      "cell_type": "code",
      "execution_count": null,
      "metadata": {
        "id": "Cfyw1-wdJLkg",
        "outputId": "94171a68-5798-498b-bfb1-d8091daec617"
      },
      "outputs": [
        {
          "data": {
            "text/plain": [
              "22"
            ]
          },
          "execution_count": 160,
          "metadata": {},
          "output_type": "execute_result"
        }
      ],
      "source": [
        "data['label'].nunique()"
      ],
      "id": "Cfyw1-wdJLkg"
    },
    {
      "cell_type": "code",
      "execution_count": null,
      "metadata": {
        "id": "X8q7rjxJJLkh",
        "outputId": "70f85cb7-f58b-4d6e-d52f-e7d7da505c2a"
      },
      "outputs": [
        {
          "data": {
            "text/plain": [
              "rice           100\n",
              "maize          100\n",
              "jute           100\n",
              "cotton         100\n",
              "coconut        100\n",
              "papaya         100\n",
              "orange         100\n",
              "apple          100\n",
              "muskmelon      100\n",
              "watermelon     100\n",
              "grapes         100\n",
              "mango          100\n",
              "banana         100\n",
              "pomegranate    100\n",
              "lentil         100\n",
              "blackgram      100\n",
              "mungbean       100\n",
              "mothbeans      100\n",
              "pigeonpeas     100\n",
              "kidneybeans    100\n",
              "chickpea       100\n",
              "coffee         100\n",
              "Name: label, dtype: int64"
            ]
          },
          "execution_count": 161,
          "metadata": {},
          "output_type": "execute_result"
        }
      ],
      "source": [
        "data['label'].value_counts()"
      ],
      "id": "X8q7rjxJJLkh"
    },
    {
      "cell_type": "code",
      "execution_count": null,
      "metadata": {
        "id": "bACUwXTlJLkh",
        "outputId": "4353cd35-d998-4058-929b-31ddde7adb27"
      },
      "outputs": [
        {
          "data": {
            "text/html": [
              "<div>\n",
              "<style scoped>\n",
              "    .dataframe tbody tr th:only-of-type {\n",
              "        vertical-align: middle;\n",
              "    }\n",
              "\n",
              "    .dataframe tbody tr th {\n",
              "        vertical-align: top;\n",
              "    }\n",
              "\n",
              "    .dataframe thead th {\n",
              "        text-align: right;\n",
              "    }\n",
              "</style>\n",
              "<table border=\"1\" class=\"dataframe\">\n",
              "  <thead>\n",
              "    <tr style=\"text-align: right;\">\n",
              "      <th></th>\n",
              "      <th>count</th>\n",
              "      <th>mean</th>\n",
              "      <th>std</th>\n",
              "      <th>min</th>\n",
              "      <th>25%</th>\n",
              "      <th>50%</th>\n",
              "      <th>75%</th>\n",
              "      <th>max</th>\n",
              "    </tr>\n",
              "  </thead>\n",
              "  <tbody>\n",
              "    <tr>\n",
              "      <th>N</th>\n",
              "      <td>2200.0</td>\n",
              "      <td>50.551818</td>\n",
              "      <td>36.917334</td>\n",
              "      <td>0.000000</td>\n",
              "      <td>21.000000</td>\n",
              "      <td>37.000000</td>\n",
              "      <td>84.250000</td>\n",
              "      <td>140.000000</td>\n",
              "    </tr>\n",
              "    <tr>\n",
              "      <th>P</th>\n",
              "      <td>2200.0</td>\n",
              "      <td>53.362727</td>\n",
              "      <td>32.985883</td>\n",
              "      <td>5.000000</td>\n",
              "      <td>28.000000</td>\n",
              "      <td>51.000000</td>\n",
              "      <td>68.000000</td>\n",
              "      <td>145.000000</td>\n",
              "    </tr>\n",
              "    <tr>\n",
              "      <th>K</th>\n",
              "      <td>2200.0</td>\n",
              "      <td>48.149091</td>\n",
              "      <td>50.647931</td>\n",
              "      <td>5.000000</td>\n",
              "      <td>20.000000</td>\n",
              "      <td>32.000000</td>\n",
              "      <td>49.000000</td>\n",
              "      <td>205.000000</td>\n",
              "    </tr>\n",
              "    <tr>\n",
              "      <th>temperature</th>\n",
              "      <td>2200.0</td>\n",
              "      <td>25.616244</td>\n",
              "      <td>5.063749</td>\n",
              "      <td>8.825675</td>\n",
              "      <td>22.769375</td>\n",
              "      <td>25.598693</td>\n",
              "      <td>28.561654</td>\n",
              "      <td>43.675493</td>\n",
              "    </tr>\n",
              "    <tr>\n",
              "      <th>humidity</th>\n",
              "      <td>2200.0</td>\n",
              "      <td>71.481779</td>\n",
              "      <td>22.263812</td>\n",
              "      <td>14.258040</td>\n",
              "      <td>60.261953</td>\n",
              "      <td>80.473146</td>\n",
              "      <td>89.948771</td>\n",
              "      <td>99.981876</td>\n",
              "    </tr>\n",
              "    <tr>\n",
              "      <th>ph</th>\n",
              "      <td>2200.0</td>\n",
              "      <td>6.469480</td>\n",
              "      <td>0.773938</td>\n",
              "      <td>3.504752</td>\n",
              "      <td>5.971693</td>\n",
              "      <td>6.425045</td>\n",
              "      <td>6.923643</td>\n",
              "      <td>9.935091</td>\n",
              "    </tr>\n",
              "    <tr>\n",
              "      <th>rainfall</th>\n",
              "      <td>2200.0</td>\n",
              "      <td>103.463655</td>\n",
              "      <td>54.958389</td>\n",
              "      <td>20.211267</td>\n",
              "      <td>64.551686</td>\n",
              "      <td>94.867624</td>\n",
              "      <td>124.267508</td>\n",
              "      <td>298.560117</td>\n",
              "    </tr>\n",
              "  </tbody>\n",
              "</table>\n",
              "</div>"
            ],
            "text/plain": [
              "              count        mean        std        min        25%        50%  \\\n",
              "N            2200.0   50.551818  36.917334   0.000000  21.000000  37.000000   \n",
              "P            2200.0   53.362727  32.985883   5.000000  28.000000  51.000000   \n",
              "K            2200.0   48.149091  50.647931   5.000000  20.000000  32.000000   \n",
              "temperature  2200.0   25.616244   5.063749   8.825675  22.769375  25.598693   \n",
              "humidity     2200.0   71.481779  22.263812  14.258040  60.261953  80.473146   \n",
              "ph           2200.0    6.469480   0.773938   3.504752   5.971693   6.425045   \n",
              "rainfall     2200.0  103.463655  54.958389  20.211267  64.551686  94.867624   \n",
              "\n",
              "                    75%         max  \n",
              "N             84.250000  140.000000  \n",
              "P             68.000000  145.000000  \n",
              "K             49.000000  205.000000  \n",
              "temperature   28.561654   43.675493  \n",
              "humidity      89.948771   99.981876  \n",
              "ph             6.923643    9.935091  \n",
              "rainfall     124.267508  298.560117  "
            ]
          },
          "execution_count": 162,
          "metadata": {},
          "output_type": "execute_result"
        }
      ],
      "source": [
        "data.describe().transpose()"
      ],
      "id": "bACUwXTlJLkh"
    },
    {
      "cell_type": "markdown",
      "metadata": {
        "id": "X_kOgirjJLkh"
      },
      "source": [
        "**Handling missing values**"
      ],
      "id": "X_kOgirjJLkh"
    },
    {
      "cell_type": "code",
      "execution_count": null,
      "metadata": {
        "id": "9Nru7NXJJLki",
        "outputId": "3716a837-f907-48a5-ac17-0a781ed5676f"
      },
      "outputs": [
        {
          "data": {
            "text/plain": [
              "27"
            ]
          },
          "execution_count": 163,
          "metadata": {},
          "output_type": "execute_result"
        }
      ],
      "source": [
        "# Indices of rows where N is 0.\n",
        "ind = list(data[data['N'] == 0].index)\n",
        "len(ind)"
      ],
      "id": "9Nru7NXJJLki"
    },
    {
      "cell_type": "code",
      "execution_count": null,
      "metadata": {
        "id": "VuCyqTzLJLki",
        "outputId": "d87a2f47-8fe6-4d1a-d0ff-9d44aa8d7331"
      },
      "outputs": [
        {
          "data": {
            "text/plain": [
              "(2173, 8)"
            ]
          },
          "execution_count": 164,
          "metadata": {},
          "output_type": "execute_result"
        }
      ],
      "source": [
        "# Dropping rows with missing values.\n",
        "data.drop(ind, inplace = True)\n",
        "data.reset_index(drop = True, inplace = True)\n",
        "data.shape"
      ],
      "id": "VuCyqTzLJLki"
    },
    {
      "cell_type": "markdown",
      "metadata": {
        "id": "YArM1jxBJLkj"
      },
      "source": [
        "**Features correlation**"
      ],
      "id": "YArM1jxBJLkj"
    },
    {
      "cell_type": "code",
      "execution_count": null,
      "metadata": {
        "id": "C-IrG2moJLkj",
        "outputId": "34d537e4-01b2-4088-a36d-d85c8b8bef46"
      },
      "outputs": [
        {
          "data": {
            "text/plain": [
              "<AxesSubplot:>"
            ]
          },
          "execution_count": 165,
          "metadata": {},
          "output_type": "execute_result"
        },
        {
          "data": {
            "image/png": "[encoded data removed]",
            "text/plain": [
              "<Figure size 432x288 with 2 Axes>"
            ]
          },
          "metadata": {
            "needs_background": "light"
          },
          "output_type": "display_data"
        }
      ],
      "source": [
        "# Correlation heatmap.\n",
        "sns.heatmap(data.corr(), annot = True)"
      ],
      "id": "C-IrG2moJLkj"
    },
    {
      "cell_type": "code",
      "execution_count": null,
      "metadata": {
        "id": "abvRktPFJLkj"
      },
      "outputs": [],
      "source": [
        "target = data['label']\n",
        "features_name = data.drop(columns = ['label', 'N','K','P'])# Dropping NPK \n",
        "features = features_name.values"
      ],
      "id": "abvRktPFJLkj"
    },
    {
      "cell_type": "code",
      "execution_count": null,
      "metadata": {
        "id": "Uk4diugpJLkk",
        "outputId": "4d733605-26df-4e50-c9c6-8ba434035473"
      },
      "outputs": [
        {
          "data": {
            "text/plain": [
              "array([[ 90.        ,  43.        ,  20.87974371,  82.00274423,\n",
              "          6.50298529, 202.9355362 ],\n",
              "       [ 85.        ,  41.        ,  21.77046169,  80.31964408,\n",
              "          7.03809636, 226.6555374 ],\n",
              "       [ 60.        ,  44.        ,  23.00445915,  82.3207629 ,\n",
              "          7.84020714, 263.9642476 ],\n",
              "       ...,\n",
              "       [118.        ,  30.        ,  24.13179691,  67.22512329,\n",
              "          6.36260785, 173.3228386 ],\n",
              "       [117.        ,  34.        ,  26.2724184 ,  52.12739421,\n",
              "          6.75879255, 127.1752928 ],\n",
              "       [104.        ,  30.        ,  23.60301571,  60.39647474,\n",
              "          6.77983261, 140.9370415 ]])"
            ]
          },
          "execution_count": 167,
          "metadata": {},
          "output_type": "execute_result"
        }
      ],
      "source": [
        "features"
      ],
      "id": "Uk4diugpJLkk"
    },
    {
      "cell_type": "code",
      "execution_count": null,
      "metadata": {
        "id": "JPan4NZ8JLkk",
        "outputId": "0fccfefc-e77f-4225-fe88-9de1564b2e84"
      },
      "outputs": [
        {
          "data": {
            "text/plain": [
              "0         rice\n",
              "1         rice\n",
              "2         rice\n",
              "3         rice\n",
              "4         rice\n",
              "         ...  \n",
              "2168    coffee\n",
              "2169    coffee\n",
              "2170    coffee\n",
              "2171    coffee\n",
              "2172    coffee\n",
              "Name: label, Length: 2173, dtype: object"
            ]
          },
          "execution_count": 168,
          "metadata": {},
          "output_type": "execute_result"
        }
      ],
      "source": [
        "target"
      ],
      "id": "JPan4NZ8JLkk"
    },
    {
      "cell_type": "code",
      "execution_count": null,
      "metadata": {
        "id": "5IdVpX28JLkk",
        "outputId": "d2c75bd8-2d87-48bf-fa9d-9b28ba35ec9c"
      },
      "outputs": [
        {
          "data": {
            "text/plain": [
              "array([20, 20, 20, ...,  5,  5,  5])"
            ]
          },
          "execution_count": 169,
          "metadata": {},
          "output_type": "execute_result"
        }
      ],
      "source": [
        "LE = pre.LabelEncoder()\n",
        "target = LE.fit_transform(target)\n",
        "target"
      ],
      "id": "5IdVpX28JLkk"
    },
    {
      "cell_type": "code",
      "execution_count": null,
      "metadata": {
        "id": "bvvuZswgJLkk",
        "outputId": "6b2e9aec-b5f1-420a-d53d-b0da7c7c89af"
      },
      "outputs": [
        {
          "data": {
            "text/plain": [
              "array([ 0,  1,  2,  3,  4,  5,  6,  7,  8,  9, 10, 11, 12, 13, 14, 15, 16,\n",
              "       17, 18, 19, 20, 21])"
            ]
          },
          "execution_count": 170,
          "metadata": {},
          "output_type": "execute_result"
        }
      ],
      "source": [
        "np.unique(target)"
      ],
      "id": "bvvuZswgJLkk"
    },
    {
      "cell_type": "code",
      "execution_count": null,
      "metadata": {
        "id": "UVSdJvZnJLkk"
      },
      "outputs": [],
      "source": [
        "# Saving the encoder for inverse transforming the predictions.\n",
        "dump(LE, open('label.pkl', 'wb'))"
      ],
      "id": "UVSdJvZnJLkk"
    },
    {
      "cell_type": "code",
      "execution_count": null,
      "metadata": {
        "id": "_kHxUGY8JLkl"
      },
      "outputs": [],
      "source": [
        "# Splitting into 80% training dataset and 20% testing dataset.\n",
        "X_train, X_test, Y_train, Y_test = train_test_split(features, target, test_size = 0.2)"
      ],
      "id": "_kHxUGY8JLkl"
    },
    {
      "cell_type": "code",
      "execution_count": null,
      "metadata": {
        "id": "gT1z3KV3JLkl",
        "outputId": "6acee1f7-e992-4fb9-89c3-42f88fdb037c"
      },
      "outputs": [
        {
          "name": "stdout",
          "output_type": "stream",
          "text": [
            "Train data shape: (1738, 6)\n",
            "Test data shape: (435, 6)\n"
          ]
        }
      ],
      "source": [
        "print('Train data shape:', (X_train.shape))\n",
        "print('Test data shape:', (X_test.shape))"
      ],
      "id": "gT1z3KV3JLkl"
    },
    {
      "cell_type": "code",
      "execution_count": null,
      "metadata": {
        "id": "DHbt1E66JLkl",
        "outputId": "3edd6a02-ea82-4dfb-d720-7440bc8534fc"
      },
      "outputs": [
        {
          "data": {
            "text/plain": [
              "(array([ 0,  1,  2,  3,  4,  5,  6,  7,  8,  9, 10, 11, 12, 13, 14, 15, 16,\n",
              "        17, 18, 19, 20, 21]),\n",
              " array([78, 77, 81, 86, 82, 77, 75, 81, 81, 74, 76, 77, 73, 82, 79, 80, 80,\n",
              "        79, 84, 79, 79, 78], dtype=int64))"
            ]
          },
          "execution_count": 174,
          "metadata": {},
          "output_type": "execute_result"
        }
      ],
      "source": [
        "np.unique(Y_train, return_counts = True)"
      ],
      "id": "DHbt1E66JLkl"
    },
    {
      "cell_type": "code",
      "execution_count": null,
      "metadata": {
        "id": "UIuREcE-JLkl",
        "outputId": "93c01e8a-6a8f-4868-ddb3-2c2f553f308c"
      },
      "outputs": [
        {
          "data": {
            "text/plain": [
              "array([[-0.03174603, -0.60714286,  0.52303123, -0.64834263,  3.67276079,\n",
              "        -0.48078895],\n",
              "       [-0.06349206, -0.85714286, -0.80257196,  0.41905453,  1.32261936,\n",
              "         0.24957973],\n",
              "       [-0.0952381 , -0.32142857,  1.00200192, -1.51231418, -0.78936572,\n",
              "         1.28639182],\n",
              "       ...,\n",
              "       [-0.22222222, -0.25      ,  0.93398365, -1.11631122,  0.68853074,\n",
              "        -0.06475542],\n",
              "       [-0.04761905, -0.39285714,  0.43483972,  0.07156375, -0.13616488,\n",
              "        -0.94596382],\n",
              "       [-0.17460317, -0.53571429,  0.49692187,  0.28462109, -0.15161053,\n",
              "        -0.74345978]])"
            ]
          },
          "execution_count": 175,
          "metadata": {},
          "output_type": "execute_result"
        }
      ],
      "source": [
        "# Robust sacler is used as there may be some outliers in the data.\n",
        "scaler = pre.RobustScaler()\n",
        "# Train data\n",
        "#train_scaled = scaler.fit_transform(X_train)\n",
        "scaler.fit(X_train)\n",
        "train_scaled = scaler.transform(X_train)\n",
        "train_scaled"
      ],
      "id": "UIuREcE-JLkl"
    },
    {
      "cell_type": "code",
      "execution_count": null,
      "metadata": {
        "id": "egsrjimdJLkm",
        "outputId": "1161d3d5-193b-40e4-87ea-dd00f13a7c5a"
      },
      "outputs": [
        {
          "data": {
            "text/plain": [
              "array([[ 0.00000000e+00, -1.42857143e-01, -1.04787943e-02,\n",
              "         4.64334335e-01, -7.07680160e-01,  2.09371080e+00],\n",
              "       [ 1.00000000e+00,  7.50000000e-01,  5.84253241e-01,\n",
              "         4.51193255e-01, -3.25655690e-01, -1.16252589e+00],\n",
              "       [ 5.87301587e-01, -3.21428571e-01,  4.82569979e-02,\n",
              "        -6.23406850e-01, -9.66367916e-02,  6.94061401e-02],\n",
              "       ...,\n",
              "       [ 3.17460317e-02, -3.57142857e-01,  6.34517264e-01,\n",
              "        -6.69959008e-01,  2.77153662e+00, -9.94286983e-01],\n",
              "       [-4.60317460e-01,  0.00000000e+00,  7.05122419e-01,\n",
              "        -1.13178521e+00, -1.49942947e+00, -6.32394082e-02],\n",
              "       [ 9.04761905e-01,  1.78571429e-01, -1.33037950e-03,\n",
              "         6.39783654e-03,  5.53672615e-01,  1.85461106e+00]])"
            ]
          },
          "execution_count": 176,
          "metadata": {},
          "output_type": "execute_result"
        }
      ],
      "source": [
        "# Test data\n",
        "test_scaled = scaler.transform(X_test)\n",
        "test_scaled"
      ],
      "id": "egsrjimdJLkm"
    },
    {
      "cell_type": "code",
      "execution_count": null,
      "metadata": {
        "id": "uHHJtbZrJLkm"
      },
      "outputs": [],
      "source": [
        "# Saving the scaler for scaling the inputs for prediction.\n",
        "dump(scaler, open('scaler.pkl', 'wb'))"
      ],
      "id": "uHHJtbZrJLkm"
    },
    {
      "cell_type": "markdown",
      "metadata": {
        "id": "cF_vVvxvJLkm"
      },
      "source": [
        "The classification techniques used for classifcation of the crops are: <br>\n",
        "**1.** *k-nearest neigbors.* <br>\n",
        "**2.** *Decision Tree.* <br>\n",
        "**3.** *Random Forest Classifier.* <br>\n",
        "**4.** *Gaussian Naive Bayes.* <br>\n",
        "These algorithms will then be used for the **ensemble learning model**."
      ],
      "id": "cF_vVvxvJLkm"
    },
    {
      "cell_type": "code",
      "execution_count": null,
      "metadata": {
        "id": "h5myXkZlJLkm"
      },
      "outputs": [],
      "source": [
        "# Instantiating the classifiers.\n",
        "knn = KNeighborsClassifier()\n",
        "dtc = DecisionTreeClassifier()\n",
        "rfc = RandomForestClassifier()\n",
        "gnb = GaussianNB()"
      ],
      "id": "h5myXkZlJLkm"
    },
    {
      "cell_type": "markdown",
      "metadata": {
        "id": "fITQ35nrJLkm"
      },
      "source": [
        "**Voting classifier**"
      ],
      "id": "fITQ35nrJLkm"
    },
    {
      "cell_type": "code",
      "execution_count": null,
      "metadata": {
        "id": "HnwFXnFcJLkm"
      },
      "outputs": [],
      "source": [
        "# Ensemble learning model.\n",
        "ensemble = VotingClassifier(\n",
        "                            estimators = [('knn', knn), ('dtc', dtc), ('rfc', rfc), ('gnb', gnb)],\n",
        "                            voting = 'hard')"
      ],
      "id": "HnwFXnFcJLkm"
    },
    {
      "cell_type": "code",
      "execution_count": null,
      "metadata": {
        "id": "IKM9V9sxJLkn",
        "outputId": "fd4993eb-790f-4ce6-a80f-4a27a1f75f8a"
      },
      "outputs": [
        {
          "data": {
            "text/plain": [
              "VotingClassifier(estimators=[('knn', KNeighborsClassifier()),\n",
              "                             ('dtc', DecisionTreeClassifier()),\n",
              "                             ('rfc', RandomForestClassifier()),\n",
              "                             ('gnb', GaussianNB())])"
            ]
          },
          "execution_count": 180,
          "metadata": {},
          "output_type": "execute_result"
        }
      ],
      "source": [
        "# Training the model.\n",
        "ensemble.fit(train_scaled, Y_train)"
      ],
      "id": "IKM9V9sxJLkn"
    },
    {
      "cell_type": "code",
      "execution_count": null,
      "metadata": {
        "id": "e-BtGV6KJLkn"
      },
      "outputs": [],
      "source": [
        "# Predicting on the test set.\n",
        "Y_pred = ensemble.predict(test_scaled)"
      ],
      "id": "e-BtGV6KJLkn"
    },
    {
      "cell_type": "markdown",
      "metadata": {
        "id": "PYBOTLqYJLkn"
      },
      "source": [
        "**Model performance**"
      ],
      "id": "PYBOTLqYJLkn"
    },
    {
      "cell_type": "code",
      "execution_count": null,
      "metadata": {
        "id": "gmhnPJElJLkn",
        "outputId": "f8a34cc6-dd47-4b9a-f288-a73869753434"
      },
      "outputs": [
        {
          "name": "stdout",
          "output_type": "stream",
          "text": [
            "The accuracy of the model is: 0.9977\n"
          ]
        }
      ],
      "source": [
        "print(\"The accuracy of the model is: %.4f\" % metrics.accuracy_score(Y_test, Y_pred))"
      ],
      "id": "gmhnPJElJLkn"
    },
    {
      "cell_type": "code",
      "execution_count": null,
      "metadata": {
        "id": "ehRHexf2JLkn"
      },
      "outputs": [],
      "source": [
        "dump(ensemble, open('ensemble.pkl', 'wb'))"
      ],
      "id": "ehRHexf2JLkn"
    },
    {
      "cell_type": "code",
      "execution_count": null,
      "metadata": {
        "id": "c4zZf1y4JLkn"
      },
      "outputs": [],
      "source": [
        "predicted_df = pd.DataFrame(data = X_test, columns = features_name.columns)\n",
        "predicted_df['Actual'] = LE.inverse_transform(Y_test)\n",
        "predicted_df['Predicted'] = LE.inverse_transform(Y_pred)"
      ],
      "id": "c4zZf1y4JLkn"
    },
    {
      "cell_type": "code",
      "execution_count": null,
      "metadata": {
        "id": "RZKQfFHNJLko",
        "outputId": "e76b0500-d7a8-40fa-ad04-90c6c0a57c92"
      },
      "outputs": [
        {
          "data": {
            "text/html": [
              "<div>\n",
              "<style scoped>\n",
              "    .dataframe tbody tr th:only-of-type {\n",
              "        vertical-align: middle;\n",
              "    }\n",
              "\n",
              "    .dataframe tbody tr th {\n",
              "        vertical-align: top;\n",
              "    }\n",
              "\n",
              "    .dataframe thead th {\n",
              "        text-align: right;\n",
              "    }\n",
              "</style>\n",
              "<table border=\"1\" class=\"dataframe\">\n",
              "  <thead>\n",
              "    <tr style=\"text-align: right;\">\n",
              "      <th></th>\n",
              "      <th>N</th>\n",
              "      <th>K</th>\n",
              "      <th>temperature</th>\n",
              "      <th>humidity</th>\n",
              "      <th>ph</th>\n",
              "      <th>rainfall</th>\n",
              "      <th>Actual</th>\n",
              "      <th>Predicted</th>\n",
              "    </tr>\n",
              "  </thead>\n",
              "  <tbody>\n",
              "    <tr>\n",
              "      <th>243</th>\n",
              "      <td>49.0</td>\n",
              "      <td>51.0</td>\n",
              "      <td>24.872121</td>\n",
              "      <td>93.905601</td>\n",
              "      <td>6.676579</td>\n",
              "      <td>135.169452</td>\n",
              "      <td>papaya</td>\n",
              "      <td>papaya</td>\n",
              "    </tr>\n",
              "    <tr>\n",
              "      <th>387</th>\n",
              "      <td>108.0</td>\n",
              "      <td>31.0</td>\n",
              "      <td>24.128325</td>\n",
              "      <td>56.181077</td>\n",
              "      <td>6.431900</td>\n",
              "      <td>147.275782</td>\n",
              "      <td>coffee</td>\n",
              "      <td>coffee</td>\n",
              "    </tr>\n",
              "    <tr>\n",
              "      <th>8</th>\n",
              "      <td>27.0</td>\n",
              "      <td>19.0</td>\n",
              "      <td>20.934099</td>\n",
              "      <td>21.189301</td>\n",
              "      <td>5.562202</td>\n",
              "      <td>133.191442</td>\n",
              "      <td>kidneybeans</td>\n",
              "      <td>kidneybeans</td>\n",
              "    </tr>\n",
              "    <tr>\n",
              "      <th>149</th>\n",
              "      <td>8.0</td>\n",
              "      <td>26.0</td>\n",
              "      <td>25.547599</td>\n",
              "      <td>91.641948</td>\n",
              "      <td>5.702485</td>\n",
              "      <td>212.867626</td>\n",
              "      <td>coconut</td>\n",
              "      <td>coconut</td>\n",
              "    </tr>\n",
              "    <tr>\n",
              "      <th>358</th>\n",
              "      <td>9.0</td>\n",
              "      <td>32.0</td>\n",
              "      <td>32.269353</td>\n",
              "      <td>53.560928</td>\n",
              "      <td>5.870116</td>\n",
              "      <td>95.940354</td>\n",
              "      <td>mango</td>\n",
              "      <td>mango</td>\n",
              "    </tr>\n",
              "    <tr>\n",
              "      <th>253</th>\n",
              "      <td>59.0</td>\n",
              "      <td>17.0</td>\n",
              "      <td>28.546224</td>\n",
              "      <td>66.313941</td>\n",
              "      <td>7.368319</td>\n",
              "      <td>62.834699</td>\n",
              "      <td>blackgram</td>\n",
              "      <td>blackgram</td>\n",
              "    </tr>\n",
              "    <tr>\n",
              "      <th>87</th>\n",
              "      <td>94.0</td>\n",
              "      <td>40.0</td>\n",
              "      <td>20.277744</td>\n",
              "      <td>82.894086</td>\n",
              "      <td>5.718627</td>\n",
              "      <td>241.974195</td>\n",
              "      <td>rice</td>\n",
              "      <td>rice</td>\n",
              "    </tr>\n",
              "    <tr>\n",
              "      <th>10</th>\n",
              "      <td>32.0</td>\n",
              "      <td>15.0</td>\n",
              "      <td>23.909101</td>\n",
              "      <td>20.746193</td>\n",
              "      <td>5.706199</td>\n",
              "      <td>81.602112</td>\n",
              "      <td>kidneybeans</td>\n",
              "      <td>kidneybeans</td>\n",
              "    </tr>\n",
              "    <tr>\n",
              "      <th>89</th>\n",
              "      <td>33.0</td>\n",
              "      <td>24.0</td>\n",
              "      <td>35.457905</td>\n",
              "      <td>68.758105</td>\n",
              "      <td>5.269504</td>\n",
              "      <td>108.633305</td>\n",
              "      <td>pigeonpeas</td>\n",
              "      <td>pigeonpeas</td>\n",
              "    </tr>\n",
              "    <tr>\n",
              "      <th>143</th>\n",
              "      <td>7.0</td>\n",
              "      <td>9.0</td>\n",
              "      <td>18.879577</td>\n",
              "      <td>92.043045</td>\n",
              "      <td>7.813917</td>\n",
              "      <td>114.665951</td>\n",
              "      <td>orange</td>\n",
              "      <td>orange</td>\n",
              "    </tr>\n",
              "  </tbody>\n",
              "</table>\n",
              "</div>"
            ],
            "text/plain": [
              "         N     K  temperature   humidity        ph    rainfall       Actual  \\\n",
              "243   49.0  51.0    24.872121  93.905601  6.676579  135.169452       papaya   \n",
              "387  108.0  31.0    24.128325  56.181077  6.431900  147.275782       coffee   \n",
              "8     27.0  19.0    20.934099  21.189301  5.562202  133.191442  kidneybeans   \n",
              "149    8.0  26.0    25.547599  91.641948  5.702485  212.867626      coconut   \n",
              "358    9.0  32.0    32.269353  53.560928  5.870116   95.940354        mango   \n",
              "253   59.0  17.0    28.546224  66.313941  7.368319   62.834699    blackgram   \n",
              "87    94.0  40.0    20.277744  82.894086  5.718627  241.974195         rice   \n",
              "10    32.0  15.0    23.909101  20.746193  5.706199   81.602112  kidneybeans   \n",
              "89    33.0  24.0    35.457905  68.758105  5.269504  108.633305   pigeonpeas   \n",
              "143    7.0   9.0    18.879577  92.043045  7.813917  114.665951       orange   \n",
              "\n",
              "       Predicted  \n",
              "243       papaya  \n",
              "387       coffee  \n",
              "8    kidneybeans  \n",
              "149      coconut  \n",
              "358        mango  \n",
              "253    blackgram  \n",
              "87          rice  \n",
              "10   kidneybeans  \n",
              "89    pigeonpeas  \n",
              "143       orange  "
            ]
          },
          "execution_count": 185,
          "metadata": {},
          "output_type": "execute_result"
        }
      ],
      "source": [
        "predicted_df.sample(10)"
      ],
      "id": "RZKQfFHNJLko"
    }
  ],
  "metadata": {
    "interpreter": {
      "hash": "38740d3277777e2cd7c6c2cc9d8addf5118fdf3f82b1b39231fd12aeac8aee8b"
    },
    "kernelspec": {
      "display_name": "Python 3.9.6 64-bit",
      "name": "python3"
    },
    "language_info": {
      "codemirror_mode": {
        "name": "ipython",
        "version": 3
      },
      "file_extension": ".py",
      "mimetype": "text/x-python",
      "name": "python",
      "nbconvert_exporter": "python",
      "pygments_lexer": "ipython3",
      "version": "3.9.6"
    },
    "colab": {
      "name": "Ensemble_Crop Recommender_Final.ipynb",
      "provenance": [],
      "include_colab_link": true
    }
  },
  "nbformat": 4,
  "nbformat_minor": 5
}